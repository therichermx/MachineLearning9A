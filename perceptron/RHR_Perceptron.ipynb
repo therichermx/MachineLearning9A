{
  "nbformat": 4,
  "nbformat_minor": 0,
  "metadata": {
    "colab": {
      "provenance": []
    },
    "kernelspec": {
      "name": "python3",
      "display_name": "Python 3"
    },
    "language_info": {
      "name": "python"
    }
  },
  "cells": [
    {
      "cell_type": "markdown",
      "source": [
        "Author: Ricardo Hernández Ramírez 2009070 R9A"
      ],
      "metadata": {
        "id": "G46eo0PSIB-L"
      }
    },
    {
      "cell_type": "markdown",
      "source": [
        "# What is a perceptron?\n",
        "\n",
        "A perceptron is an algorithm that is based on the brain's neurons and how they work.\n",
        "\n",
        "The perceptron receives input data that is multiplied by a number of weights. Then it is put through an activation function to get a result. If the result is wrong, the perceptron then uses back propagation and gradient descent to return and adjust the weights before the next calculation to try and achieve a correct result."
      ],
      "metadata": {
        "id": "wMDjb27Kv9QW"
      }
    },
    {
      "cell_type": "markdown",
      "source": [
        "#Pseudocode\n",
        "\n",
        "\n",
        "*   Load the training data\n",
        "*   Count the values of the data\n",
        "*   Define the sigmoid function and its derivative\n",
        "*   Establish the weights\n",
        "*   Define the perceptron\n",
        "*   Train the perceptron\n",
        "*   Test the perceptron with a different dataset\n",
        "\n"
      ],
      "metadata": {
        "id": "dsQJN690xCd7"
      }
    },
    {
      "cell_type": "code",
      "source": [
        "%matplotlib inline"
      ],
      "metadata": {
        "id": "KcNi_EJ8KVV9"
      },
      "execution_count": 1,
      "outputs": []
    },
    {
      "cell_type": "code",
      "source": [
        "from matplotlib import pyplot as plt\n",
        "import numpy as np\n",
        "import pandas as pd"
      ],
      "metadata": {
        "id": "aWJ6jtz3KW_s"
      },
      "execution_count": 2,
      "outputs": []
    },
    {
      "cell_type": "code",
      "source": [
        "iris = pd.read_csv(\"Iris2species.csv\")"
      ],
      "metadata": {
        "id": "bZ2zkAM3KYdY"
      },
      "execution_count": 3,
      "outputs": []
    },
    {
      "cell_type": "code",
      "source": [
        "iris[\"Species\"].value_counts()"
      ],
      "metadata": {
        "colab": {
          "base_uri": "https://localhost:8080/"
        },
        "id": "sWGwKgAmKfBY",
        "outputId": "25e9fa18-de7e-43db-cd37-c3539f38f9ea"
      },
      "execution_count": 4,
      "outputs": [
        {
          "output_type": "execute_result",
          "data": {
            "text/plain": [
              "Iris-versicolor    26\n",
              "Iris-setosa        20\n",
              "Name: Species, dtype: int64"
            ]
          },
          "metadata": {},
          "execution_count": 4
        }
      ]
    },
    {
      "cell_type": "code",
      "source": [
        "types = iris.Species.drop_duplicates().values.tolist()\n",
        "X = iris.drop(\"Id\",axis=1).values\n",
        "Y = iris[\"Species\"].values\n",
        "\n",
        "labels = dict(zip(types, range(len(iris))))\n",
        "result = iris['SpeciesLabel'] = iris['Species'].replace(labels)"
      ],
      "metadata": {
        "id": "beixRUqTLXfK"
      },
      "execution_count": 5,
      "outputs": []
    },
    {
      "cell_type": "markdown",
      "source": [
        "We remove the Id column since it will not be necessary."
      ],
      "metadata": {
        "id": "J7Dz1KRqyVui"
      }
    },
    {
      "cell_type": "code",
      "source": [
        "data = iris[['SepalLengthCm', 'SepalWidthCm', 'PetalLengthCm', 'PetalWidthCm', 'SpeciesLabel']].values"
      ],
      "metadata": {
        "id": "GOO1QwcHK0N8"
      },
      "execution_count": 6,
      "outputs": []
    },
    {
      "cell_type": "markdown",
      "source": [
        "The sigmoid function will be our activation function."
      ],
      "metadata": {
        "id": "_KfI2DXeyaqY"
      }
    },
    {
      "cell_type": "code",
      "source": [
        "def sigmoid(x) :\n",
        "    return 1/(1 + np.exp(-x))\n",
        "\n",
        "def sigmoid_p(x) :\n",
        "    return sigmoid(x) * (1-sigmoid(x))"
      ],
      "metadata": {
        "id": "J0fkIOTDM9Fz"
      },
      "execution_count": 7,
      "outputs": []
    },
    {
      "cell_type": "markdown",
      "source": [
        "In this section, we establish the learning rate, weight values, prediction, cost function, and we graph the results."
      ],
      "metadata": {
        "id": "ZGiNyUhz0B4C"
      }
    },
    {
      "cell_type": "code",
      "source": [
        "# training loop\n",
        "learning_rate = 0.2\n",
        "costs = []\n",
        "\n",
        "# weights and bias value\n",
        "w1 = np.random.randn()\n",
        "w2 = np.random.randn()\n",
        "w3 = np.random.randn()\n",
        "w4 = np.random.randn()\n",
        "b = np.random.randn()\n",
        "\n",
        "for i in range(1000000) :\n",
        "    ri = np.random.randint(len(data))\n",
        "    point = data[ri]\n",
        "    z = point[0] * w1 + point[1] * w2 + point[2] * w3 + point[3] * w4 + b\n",
        "    prediction = sigmoid(z)\n",
        "    target = point[4]\n",
        "\n",
        "    # cost function (loss)\n",
        "    cost = np.square(prediction - target)\n",
        "    dcost_prediction = 2 * (prediction - target)\n",
        "    dprediction_dz = sigmoid_p(z)\n",
        "\n",
        "    # our input data & affecting 1 to the bias value\n",
        "    dz_dw1 = point[0]\n",
        "    dz_dw2 = point[1]\n",
        "    dz_dw3 = point[2]\n",
        "    dz_dw4 = point[3]\n",
        "    dz_db = 1\n",
        "\n",
        "    # the slope of the cost function\n",
        "    dcost_dz = dcost_prediction * dprediction_dz\n",
        "\n",
        "    # the slope of weights & bias value\n",
        "    dcost_dw1 = dcost_dz * dz_dw1\n",
        "    dcost_dw2 = dcost_dz * dz_dw2\n",
        "    dcost_dw3 = dcost_dz * dz_dw3\n",
        "    dcost_dw4 = dcost_dz * dz_dw4\n",
        "    dcost_db = dcost_dz * dz_db\n",
        "\n",
        "    #Optimization\n",
        "    # getting the new weights & bias values\n",
        "    w1 = w1 - learning_rate * dcost_dw1\n",
        "    w2 = w2 - learning_rate * dcost_dw2\n",
        "    w3 = w3 - learning_rate * dcost_dw3\n",
        "    w4 = w4 - learning_rate * dcost_dw4\n",
        "    b = b - learning_rate * dcost_db\n",
        "\n",
        "    #Graph\n",
        "    if i % 100 == 0 :\n",
        "        cost_sum = 0\n",
        "        for j in range(len(data)) :\n",
        "            point = data[ri]\n",
        "\n",
        "            z = point[0] * w1 + point[1] * w2 + point[2] * w3 + point[3] * w4 + b\n",
        "            prediction = sigmoid(z)\n",
        "\n",
        "            target = point[4]\n",
        "            cost_sum += np.square(prediction - target)\n",
        "\n",
        "        costs.append(cost_sum/len(data))\n",
        "\n",
        "plt.plot(costs)\n",
        "\n"
      ],
      "metadata": {
        "colab": {
          "base_uri": "https://localhost:8080/",
          "height": 449
        },
        "id": "A6srfYKUM_jT",
        "outputId": "6915fdb2-eda2-4736-a737-298e13b8eb6c"
      },
      "execution_count": 8,
      "outputs": [
        {
          "output_type": "execute_result",
          "data": {
            "text/plain": [
              "[<matplotlib.lines.Line2D at 0x7a71f82cc490>]"
            ]
          },
          "metadata": {},
          "execution_count": 8
        },
        {
          "output_type": "display_data",
          "data": {
            "text/plain": [
              "<Figure size 640x480 with 1 Axes>"
            ],
            "image/png": "[encoded data removed]"
          },
          "metadata": {}
        }
      ]
    },
    {
      "cell_type": "code",
      "source": [
        "test_data = pd.read_csv(\"test.csv\")\n",
        "\n",
        "labels = dict(zip(types, range(len(test_data))))\n",
        "result = test_data['SpeciesLabel'] = test_data['Species'].replace(labels)\n",
        "\n",
        "data_inputs = test_data[['SepalLengthCm', 'SepalWidthCm', 'PetalLengthCm', 'PetalWidthCm', 'SpeciesLabel']].values\n",
        "for i in range(len(data_inputs)) :\n",
        "    point = data_inputs[i]\n",
        "    print(point)\n",
        "\n",
        "    z = point[0] * w1 + point[1] * w2 + point[2] * w3 + point[3] * w4 + b\n",
        "    prediction = sigmoid(z)\n",
        "    target = point[4]\n",
        "\n",
        "    print(\"prediction : {}\" .format(prediction))"
      ],
      "metadata": {
        "colab": {
          "base_uri": "https://localhost:8080/"
        },
        "id": "9R9glY-JNJqf",
        "outputId": "a60b5810-8be0-4644-baed-3a3f8720130a"
      },
      "execution_count": 9,
      "outputs": [
        {
          "output_type": "stream",
          "name": "stdout",
          "text": [
            "[5.4 3.4 1.7 0.2 0. ]\n",
            "prediction : 0.0012149851540331066\n",
            "[5.1 3.7 1.5 0.4 0. ]\n",
            "prediction : 0.0006137416527766358\n",
            "[4.6 3.6 1.  0.2 0. ]\n",
            "prediction : 8.47014575291077e-05\n",
            "[5.1 3.3 1.7 0.5 0. ]\n",
            "prediction : 0.004840645409546022\n",
            "[4.8 3.4 1.9 0.2 0. ]\n",
            "prediction : 0.006525141434396089\n",
            "[5.  3.  1.6 0.2 0. ]\n",
            "prediction : 0.003066429402232067\n",
            "[5.  3.4 1.6 0.4 0. ]\n",
            "prediction : 0.0021421082786060404\n",
            "[5.2 3.5 1.5 0.2 0. ]\n",
            "prediction : 0.0004982466063064043\n",
            "[5.2 3.4 1.4 0.2 0. ]\n",
            "prediction : 0.0003912447144270854\n",
            "[4.7 3.2 1.6 0.2 0. ]\n",
            "prediction : 0.0028860060264361206\n",
            "[4.8 3.1 1.6 0.2 0. ]\n",
            "prediction : 0.003169038363411596\n",
            "[5.4 3.4 1.5 0.4 0. ]\n",
            "prediction : 0.0008131293004378453\n",
            "[5.2 4.1 1.5 0.1 0. ]\n",
            "prediction : 0.000102080491304641\n",
            "[5.5 4.2 1.4 0.2 0. ]\n",
            "prediction : 4.5766688405232824e-05\n",
            "[4.9 3.1 1.5 0.1 0. ]\n",
            "prediction : 0.0013556253837410431\n",
            "[5.  3.2 1.2 0.2 0. ]\n",
            "prediction : 0.000310873894633457\n",
            "[5.5 3.5 1.3 0.2 0. ]\n",
            "prediction : 0.000135066107101933\n",
            "[4.9 3.1 1.5 0.1 0. ]\n",
            "prediction : 0.0013556253837410431\n",
            "[4.4 3.  1.3 0.2 0. ]\n",
            "prediction : 0.0016411339982305689\n",
            "[5.1 3.4 1.5 0.2 0. ]\n",
            "prediction : 0.0007051695534694807\n",
            "[5.  3.5 1.3 0.3 0. ]\n",
            "prediction : 0.0003307660719688903\n",
            "[4.5 2.3 1.3 0.3 0. ]\n",
            "prediction : 0.00873921745114829\n",
            "[4.4 3.2 1.3 0.2 0. ]\n",
            "prediction : 0.0010561018006149934\n",
            "[5.  3.5 1.6 0.6 0. ]\n",
            "prediction : 0.0028963964117680115\n",
            "[5.1 3.8 1.9 0.4 0. ]\n",
            "prediction : 0.003123216944649007\n",
            "[4.8 3.  1.4 0.3 0. ]\n",
            "prediction : 0.0020374400494499864\n",
            "[5.1 3.8 1.6 0.2 0. ]\n",
            "prediction : 0.0004633423287217045\n",
            "[4.6 3.2 1.4 0.2 0. ]\n",
            "prediction : 0.0013010751908572903\n",
            "[5.3 3.7 1.5 0.2 0. ]\n",
            "prediction : 0.00028232718368679236\n",
            "[5.  3.3 1.4 0.2 0. ]\n",
            "prediction : 0.0006286041644517229\n",
            "[6.8 2.8 4.8 1.4 1. ]\n",
            "prediction : 0.9999668556110811\n",
            "[6.7 3.  5.  1.7 1. ]\n",
            "prediction : 0.9999917878598901\n",
            "[6.  2.9 4.5 1.5 1. ]\n",
            "prediction : 0.9999538067156418\n",
            "[5.7 2.6 3.5 1.  1. ]\n",
            "prediction : 0.9938907838891481\n",
            "[5.5 2.4 3.8 1.1 1. ]\n",
            "prediction : 0.9994108161019333\n",
            "[5.5 2.4 3.7 1.  1. ]\n",
            "prediction : 0.9987853159334441\n",
            "[5.8 2.7 3.9 1.2 1. ]\n",
            "prediction : 0.9991899946107896\n",
            "[6.  2.7 5.1 1.6 1. ]\n",
            "prediction : 0.9999985744654007\n",
            "[5.4 3.  4.5 1.5 1. ]\n",
            "prediction : 0.9999730922827935\n",
            "[6.  3.4 4.5 1.6 1. ]\n",
            "prediction : 0.9998928015817671\n",
            "[6.7 3.1 4.7 1.5 1. ]\n",
            "prediction : 0.9999307956139463\n",
            "[6.3 2.3 4.4 1.3 1. ]\n",
            "prediction : 0.9999518209401065\n",
            "[5.6 3.  4.1 1.3 1. ]\n",
            "prediction : 0.9996279009220848\n",
            "[5.5 2.5 4.  1.3 1. ]\n",
            "prediction : 0.9998272932038275\n",
            "[5.5 2.6 4.4 1.2 1. ]\n",
            "prediction : 0.9999560202699652\n",
            "[6.1 3.  4.6 1.4 1. ]\n",
            "prediction : 0.9999465162601229\n",
            "[5.8 2.6 4.  1.2 1. ]\n",
            "prediction : 0.9995908080795387\n",
            "[5.  2.3 3.3 1.  1. ]\n",
            "prediction : 0.9967204889480414\n",
            "[5.6 2.7 4.2 1.3 1. ]\n",
            "prediction : 0.9998791240192139\n",
            "[5.7 3.  4.2 1.2 1. ]\n",
            "prediction : 0.9996544826220747\n",
            "[5.7 2.9 4.2 1.3 1. ]\n",
            "prediction : 0.9997866536056645\n",
            "[6.2 2.9 4.3 1.3 1. ]\n",
            "prediction : 0.9997466953442603\n",
            "[5.1 2.5 3.  1.1 1. ]\n",
            "prediction : 0.9824052829112998\n",
            "[5.7 2.8 4.1 1.3 1. ]\n",
            "prediction : 0.9997282920710893\n"
          ]
        }
      ]
    }
  ]
}