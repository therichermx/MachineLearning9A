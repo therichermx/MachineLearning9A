{
  "nbformat": 4,
  "nbformat_minor": 0,
  "metadata": {
    "colab": {
      "provenance": []
    },
    "kernelspec": {
      "name": "python3",
      "display_name": "Python 3"
    },
    "language_info": {
      "name": "python"
    }
  },
  "cells": [
    {
      "cell_type": "code",
      "execution_count": null,
      "metadata": {
        "id": "BxtXNz02El0i"
      },
      "outputs": [],
      "source": [
        "# Make a prediction with weights\n",
        "def predict(row, weights):\n",
        "\tactivation = weights[0]\n",
        "\tfor i in range(len(row)-1):\n",
        "\t\tactivation += weights[i + 1] * row[i]\n",
        "\treturn 1.0 if activation >= 0.0 else 0.0"
      ]
    },
    {
      "cell_type": "code",
      "source": [
        "# Make a prediction with weights\n",
        "def predict(row, weights):\n",
        "\tactivation = weights[0]\n",
        "\tfor i in range(len(row)-1):\n",
        "\t\tactivation += weights[i + 1] * row[i]\n",
        "\treturn 1.0 if activation >= 0.0 else 0.0\n",
        "\n",
        "# test predictions\n",
        "dataset = [[2.7810836,2.550537003,0],\n",
        "\t[1.465489372,2.362125076,0],\n",
        "\t[3.396561688,4.400293529,0],\n",
        "\t[1.38807019,1.850220317,0],\n",
        "\t[3.06407232,3.,0],\n",
        "\t[7.627531214,2.759262005305973235,1],\n",
        "\t[5.332441248,2.088626775,1],\n",
        "\t[6.922596716,1.77106367,1],\n",
        "\t[8.675418651,-0.242068655,1],\n",
        "\t[7.673756466,3.508563011,1]]\n",
        "weights = [-0.1, 0.20653640140000007, -0.23418117710000003]\n",
        "for row in dataset:\n",
        "\tprediction = predict(row, weights)\n",
        "\tprint(\"Expected=%d, Predicted=%d\" % (row[-1], prediction))"
      ],
      "metadata": {
        "colab": {
          "base_uri": "https://localhost:8080/"
        },
        "id": "wuJ5X-I8eswD",
        "outputId": "7f790f18-f87f-4053-ce04-d92a8026d791"
      },
      "execution_count": null,
      "outputs": [
        {
          "output_type": "stream",
          "name": "stdout",
          "text": [
            "Expected=0, Predicted=0\n",
            "Expected=0, Predicted=0\n",
            "Expected=0, Predicted=0\n",
            "Expected=0, Predicted=0\n",
            "Expected=0, Predicted=0\n",
            "Expected=1, Predicted=1\n",
            "Expected=1, Predicted=1\n",
            "Expected=1, Predicted=1\n",
            "Expected=1, Predicted=1\n",
            "Expected=1, Predicted=1\n"
          ]
        }
      ]
    },
    {
      "cell_type": "code",
      "source": [
        "def train_weights(train, l_rate, n_epoch):\n",
        "  weights = [0.0 for i in range(len(train[0]))]\n",
        "  for epoch in range(n_epoch):\n",
        "    sum_error = 0.0\n",
        "    for row in train:\n",
        "      prediction = predict(row, weights)\n",
        "      error = row[-1] - prediction\n",
        "      sum_error += error**2\n",
        "      weights[0] = weights[0] + l_rate * error\n",
        "      for i in range(len(row)-1):\n",
        "        weights[i + 1] = weights[i + 1] + l_rate * error * row[i]\n",
        "        print('>epoch=%d, lrate=%.3f, error=%.3f' % (epoch, l_rate, sum_error))\n",
        "        return weights"
      ],
      "metadata": {
        "id": "EWlaH_o2fXdl"
      },
      "execution_count": null,
      "outputs": []
    },
    {
      "cell_type": "code",
      "source": [
        "# Make a prediction with weights\n",
        "def predict(row, weights):\n",
        "\tactivation = weights[0]\n",
        "\tfor i in range(len(row)-1):\n",
        "\t\tactivation += weights[i + 1] * row[i]\n",
        "\treturn 1.0 if activation >= 0.0 else 0.0\n",
        "\n",
        "# Estimate Perceptron weights using stochastic gradient descent\n",
        "def train_weights(train, l_rate, n_epoch):\n",
        "\tweights = [0.0 for i in range(len(train[0]))]\n",
        "\tfor epoch in range(n_epoch):\n",
        "\t\tsum_error = 0.0\n",
        "\t\tfor row in train:\n",
        "\t\t\tprediction = predict(row, weights)\n",
        "\t\t\terror = row[-1] - prediction\n",
        "\t\t\tsum_error += error**2\n",
        "\t\t\tweights[0] = weights[0] + l_rate * error\n",
        "\t\t\tfor i in range(len(row)-1):\n",
        "\t\t\t\tweights[i + 1] = weights[i + 1] + l_rate * error * row[i]\n",
        "\t\tprint('>epoch=%d, lrate=%.3f, error=%.3f' % (epoch, l_rate, sum_error))\n",
        "\treturn weights\n",
        "\n",
        "# Calculate weights\n",
        "dataset = [[2.7810836,2.550537003,0],\n",
        "\t[1.465489372,2.362125076,0],\n",
        "\t[3.396561688,4.400293529,0],\n",
        "\t[1.38807019,1.850220317,0],\n",
        "\t[3.06407232,3.005305973,0],\n",
        "\t[7.627531214,2.759262235,1],\n",
        "\t[5.332441248,2.088626775,1],\n",
        "\t[6.922596716,1.77106367,1],\n",
        "\t[8.675418651,-0.242068655,1],\n",
        "\t[7.673756466,3.508563011,1]]\n",
        "l_rate = 0.1\n",
        "n_epoch = 20\n",
        "weights = train_weights(dataset, l_rate, n_epoch)\n",
        "print(weights)"
      ],
      "metadata": {
        "colab": {
          "base_uri": "https://localhost:8080/"
        },
        "id": "8f1oWCnaf6lQ",
        "outputId": "0f5bda58-95d4-47fd-cebe-ac68a0528c64"
      },
      "execution_count": null,
      "outputs": [
        {
          "output_type": "stream",
          "name": "stdout",
          "text": [
            ">epoch=0, lrate=0.100, error=2.000\n",
            ">epoch=1, lrate=0.100, error=1.000\n",
            ">epoch=2, lrate=0.100, error=0.000\n",
            ">epoch=3, lrate=0.100, error=0.000\n",
            ">epoch=4, lrate=0.100, error=0.000\n",
            ">epoch=5, lrate=0.100, error=0.000\n",
            ">epoch=6, lrate=0.100, error=0.000\n",
            ">epoch=7, lrate=0.100, error=0.000\n",
            ">epoch=8, lrate=0.100, error=0.000\n",
            ">epoch=9, lrate=0.100, error=0.000\n",
            ">epoch=10, lrate=0.100, error=0.000\n",
            ">epoch=11, lrate=0.100, error=0.000\n",
            ">epoch=12, lrate=0.100, error=0.000\n",
            ">epoch=13, lrate=0.100, error=0.000\n",
            ">epoch=14, lrate=0.100, error=0.000\n",
            ">epoch=15, lrate=0.100, error=0.000\n",
            ">epoch=16, lrate=0.100, error=0.000\n",
            ">epoch=17, lrate=0.100, error=0.000\n",
            ">epoch=18, lrate=0.100, error=0.000\n",
            ">epoch=19, lrate=0.100, error=0.000\n",
            "[-0.1, 0.20653640140000007, -0.23418117710000003]\n"
          ]
        }
      ]
    }
  ]
}